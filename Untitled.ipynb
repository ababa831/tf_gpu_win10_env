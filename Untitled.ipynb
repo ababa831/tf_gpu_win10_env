{
 "cells": [
  {
   "cell_type": "markdown",
   "metadata": {},
   "source": [
    "# TensorFlow2認識テスト"
   ]
  },
  {
   "cell_type": "markdown",
   "metadata": {},
   "source": [
    "## GPU認識確認"
   ]
  },
  {
   "cell_type": "code",
   "execution_count": 1,
   "metadata": {},
   "outputs": [
    {
     "data": {
      "text/plain": [
       "[name: \"/device:CPU:0\"\n",
       " device_type: \"CPU\"\n",
       " memory_limit: 268435456\n",
       " locality {\n",
       " }\n",
       " incarnation: 18048604866284874902,\n",
       " name: \"/device:GPU:0\"\n",
       " device_type: \"GPU\"\n",
       " memory_limit: 7049546957\n",
       " locality {\n",
       "   bus_id: 1\n",
       "   links {\n",
       "   }\n",
       " }\n",
       " incarnation: 9556013068645321504\n",
       " physical_device_desc: \"device: 0, name: GeForce RTX 2060 SUPER, pci bus id: 0000:08:00.0, compute capability: 7.5\"]"
      ]
     },
     "execution_count": 1,
     "metadata": {},
     "output_type": "execute_result"
    }
   ],
   "source": [
    "import tensorflow as tf\n",
    "from tensorflow.python.client import device_lib\n",
    "device_lib.list_local_devices()"
   ]
  },
  {
   "cell_type": "markdown",
   "metadata": {},
   "source": [
    "`device_type: \"GPU\"`\n",
    "と表示されていればGPUが認識できている"
   ]
  },
  {
   "cell_type": "markdown",
   "metadata": {},
   "source": [
    "## デモコード動作確認"
   ]
  },
  {
   "cell_type": "code",
   "execution_count": 2,
   "metadata": {},
   "outputs": [
    {
     "name": "stdout",
     "output_type": "stream",
     "text": [
      "1 Physical GPUs, 1 Logical GPUs\n",
      "TensorFlow version: 2.1.0\n"
     ]
    }
   ],
   "source": [
    "from tensorflow import keras\n",
    "\n",
    "#メモリ制限(growth)\n",
    "MAX_GPU_MEMORY = 1024  # 1GBしか使わないようにする場合\n",
    "gpus = tf.config.experimental.list_physical_devices('GPU')\n",
    "if gpus:\n",
    "    # Restrict TensorFlow to only allocate 1GB of memory on the first GPU\n",
    "    try:\n",
    "        tf.config.experimental.set_virtual_device_configuration(\n",
    "            gpus[0],\n",
    "            [tf.config.experimental.VirtualDeviceConfiguration(memory_limit=MAX_GPU_MEMORY)])\n",
    "        logical_gpus = tf.config.experimental.list_logical_devices('GPU')\n",
    "        print(len(gpus), \"Physical GPUs,\", len(logical_gpus), \"Logical GPUs\")\n",
    "    except RuntimeError as e:\n",
    "        # Virtual devices must be set before GPUs have been initialized\n",
    "        print(e)\n",
    "\n",
    "print(f'TensorFlow version: {tf.__version__}')\n",
    "\n",
    "# Helper libraries\n",
    "import numpy as np\n",
    "import matplotlib.pyplot as plt"
   ]
  },
  {
   "cell_type": "code",
   "execution_count": 3,
   "metadata": {},
   "outputs": [
    {
     "name": "stdout",
     "output_type": "stream",
     "text": [
      "Train on 60000 samples\n",
      "Epoch 1/5\n",
      "60000/60000 [==============================] - 3s 44us/sample - loss: 0.5028 - accuracy: 0.8238\n",
      "Epoch 2/5\n",
      "60000/60000 [==============================] - 2s 39us/sample - loss: 0.3751 - accuracy: 0.8648\n",
      "Epoch 3/5\n",
      "60000/60000 [==============================] - 2s 39us/sample - loss: 0.3373 - accuracy: 0.8763\n",
      "Epoch 4/5\n",
      "60000/60000 [==============================] - 2s 38us/sample - loss: 0.3128 - accuracy: 0.8852\n",
      "Epoch 5/5\n",
      "60000/60000 [==============================] - 2s 39us/sample - loss: 0.2948 - accuracy: 0.8904\n",
      "10000/10000 [==============================] - 0s 43us/sample - loss: 0.3480 - accuracy: 0.8735\n",
      "Test accuracy: 0.8735\n"
     ]
    }
   ],
   "source": [
    "fashion_mnist = keras.datasets.fashion_mnist\n",
    "(train_images, train_labels), (test_images, test_labels) = fashion_mnist.load_data()\n",
    "class_names = ['T-shirt/top', 'Trouser', 'Pullover', 'Dress', 'Coat', 'Sandal', 'Shirt', 'Sneaker', 'Bag', 'Ankle boot']\n",
    "train_images = train_images / 255.0\n",
    "test_images = test_images / 255.0\n",
    "\n",
    "model = keras.Sequential([\n",
    "    keras.layers.Flatten(input_shape=(28, 28)),\n",
    "    keras.layers.Dense(128, activation=tf.nn.relu),\n",
    "    keras.layers.Dense(10, activation=tf.nn.softmax)\n",
    "])\n",
    "\n",
    "# ここのOptimizerが変換されている\n",
    "model.compile(optimizer=tf.compat.v1.train.AdamOptimizer(), \n",
    "              loss='sparse_categorical_crossentropy',\n",
    "              metrics=['accuracy'])\n",
    "\n",
    "model.fit(train_images, train_labels, epochs=5)\n",
    "test_loss, test_acc = model.evaluate(test_images, test_labels)\n",
    "print('Test accuracy:', test_acc)\n",
    "predictions = model.predict(test_images)"
   ]
  },
  {
   "cell_type": "markdown",
   "metadata": {},
   "source": [
    "## TensorFlow2(Windows10)導入Trouble Shooting\n",
    "### Import error\n",
    "```\n",
    "Traceback (most recent call last):\n",
    "    :\n",
    "  File \"C:\\{User_Name}\\AppData\\Local\\Programs\\Python\\Python37\\lib\\imp.py\", line 342, in load_dynamic\n",
    "    return _load(spec)\n",
    "ImportError: DLL load failed: 指定されたモジュールが見つかりません。\n",
    "```\n",
    "#### A.\n",
    "https://maxigundan.com/deeplearning/2020/01/%E3%80%90tf2%E3%80%91tensorflow-2-1-windows-python%E3%81%AB%E3%81%A6importerror-dll-load-failed-%E3%81%AE%E4%BB%B6/ \n",
    "\n",
    "##### DL Link\n",
    "https://aka.ms/vs/16/release/vc_redist.x64.exe\n",
    "\n",
    "### poetryでtensorflow (2.1.0)をaddすると出るエラー\n",
    "`AttributeError: module 'tensorflow' has no attribute 'compat'`\n",
    "\n",
    "#### A. \n",
    "https://rcmdnk.com/blog/2020/03/18/computer-python/\n",
    "\n",
    "`$ poetry add tensorflow-estimator`\n",
    "\n",
    "### GPUメモリ解放方法\n",
    "\n",
    "#### A. linuxでは以下の方法に従えばよい\n",
    "\n",
    "https://github.com/tensorflow/tensorflow/issues/36465\n",
    "\n",
    "ほかのOSでも同様のコマンドは作れそうだがリセットしたほうが早いかも"
   ]
  },
  {
   "cell_type": "code",
   "execution_count": null,
   "metadata": {},
   "outputs": [],
   "source": []
  }
 ],
 "metadata": {
  "kernelspec": {
   "display_name": "Python 3",
   "language": "python",
   "name": "python3"
  },
  "language_info": {
   "codemirror_mode": {
    "name": "ipython",
    "version": 3
   },
   "file_extension": ".py",
   "mimetype": "text/x-python",
   "name": "python",
   "nbconvert_exporter": "python",
   "pygments_lexer": "ipython3",
   "version": "3.7.7"
  }
 },
 "nbformat": 4,
 "nbformat_minor": 4
}
